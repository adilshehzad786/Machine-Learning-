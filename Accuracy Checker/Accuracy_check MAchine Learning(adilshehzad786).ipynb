{
 "cells": [
  {
   "cell_type": "code",
   "execution_count": 5,
   "metadata": {},
   "outputs": [
    {
     "ename": "SyntaxError",
     "evalue": "EOL while scanning string literal (<ipython-input-5-f1cb58250c26>, line 7)",
     "output_type": "error",
     "traceback": [
      "\u001b[1;36m  File \u001b[1;32m\"<ipython-input-5-f1cb58250c26>\"\u001b[1;36m, line \u001b[1;32m7\u001b[0m\n\u001b[1;33m    x-music_data.drop(columns=['genre])\u001b[0m\n\u001b[1;37m                                       ^\u001b[0m\n\u001b[1;31mSyntaxError\u001b[0m\u001b[1;31m:\u001b[0m EOL while scanning string literal\n"
     ]
    }
   ],
   "source": [
    "import pandas as pd\n",
    "from sklearn.tree import DecisionTreeClassifier\n",
    "from sklearn.model_selection import train_test_split\n",
    "from sklearn.metrices import accuracy_score\n",
    "\n",
    "music_data=pd.read_csv('music.csv')\n",
    "x-music_data.drop(columns=['genre])\n",
    "y=music_data['genere]\n",
    "\n",
    "x_test,x_train,y_test,y_train=train_test_split(x,y,test_size=0.2)\n",
    "\n",
    "mode=DecisionTreeClassifier()\n",
    "mode.fit(x_train,y_train)\n",
    "pred=mode.predict(x_test)\n",
    "score=accuracy_score(y_test,pred)\n",
    "score"
   ]
  },
  {
   "cell_type": "code",
   "execution_count": null,
   "metadata": {
    "collapsed": true
   },
   "outputs": [],
   "source": []
  },
  {
   "cell_type": "code",
   "execution_count": null,
   "metadata": {
    "collapsed": true
   },
   "outputs": [],
   "source": []
  }
 ],
 "metadata": {
  "kernelspec": {
   "display_name": "Python 3",
   "language": "python",
   "name": "python3"
  }
 },
 "nbformat": 4,
 "nbformat_minor": 2
}
